{
 "cells": [
  {
   "cell_type": "code",
   "execution_count": null,
   "metadata": {},
   "outputs": [],
   "source": [
    "#import library used\n",
    "\n",
    "import numpy as np\n",
    "import pandas as pd\n",
    "import copy\n",
    "from sklearn.model_selection import train_test_split\n",
    "from sklearn.preprocessing import MinMaxScaler\n",
    "from sklearn.metrics import silhouette_score\n",
    "from sklearn.cluster import KMeans\n",
    "import matplotlib.pyplot as plt\n",
    "import seaborn as sns"
   ]
  },
  {
   "cell_type": "code",
   "execution_count": null,
   "metadata": {},
   "outputs": [],
   "source": [
    "df = pd.read_csv('used_cars.csv')"
   ]
  },
  {
   "cell_type": "markdown",
   "metadata": {},
   "source": [
    "### Data Exploration"
   ]
  },
  {
   "cell_type": "code",
   "execution_count": null,
   "metadata": {},
   "outputs": [],
   "source": [
    "df.head()"
   ]
  },
  {
   "cell_type": "code",
   "execution_count": null,
   "metadata": {},
   "outputs": [],
   "source": [
    "#number of records and column\n",
    "df.shape"
   ]
  },
  {
   "cell_type": "code",
   "execution_count": null,
   "metadata": {},
   "outputs": [],
   "source": [
    "df.describe()"
   ]
  },
  {
   "cell_type": "code",
   "execution_count": null,
   "metadata": {},
   "outputs": [],
   "source": [
    "#datatype for each column\n",
    "df.dtypes"
   ]
  },
  {
   "cell_type": "code",
   "execution_count": null,
   "metadata": {},
   "outputs": [],
   "source": [
    "df._get_numeric_data().columns"
   ]
  },
  {
   "cell_type": "code",
   "execution_count": null,
   "metadata": {},
   "outputs": [],
   "source": [
    "#correlation matrix\n",
    "\n",
    "corrmat = df.corr()\n",
    "f, ax = plt.subplots(figsize=(12, 9))\n",
    "sns.heatmap(corrmat, annot=True, square=True)"
   ]
  },
  {
   "cell_type": "code",
   "execution_count": null,
   "metadata": {},
   "outputs": [],
   "source": [
    "#check missing value\n",
    "\n",
    "total = df.isnull().sum().sort_values(ascending=False)\n",
    "percent = (df.isnull().sum()/df.isnull().count()).sort_values(ascending=False)\n",
    "missing_data = pd.concat([total, percent], axis=1, keys=['Total', 'Percent'])\n",
    "missing_data"
   ]
  },
  {
   "cell_type": "code",
   "execution_count": null,
   "metadata": {},
   "outputs": [],
   "source": [
    "#check outliers using boxplot\n",
    "\n",
    "plt.figure(figsize=(60, 60))\n",
    "f, axes = plt.subplots(1, 5)\n",
    "sns.boxplot(y=df[\"price\"], ax=axes[0])\n",
    "sns.boxplot(y=df[\"odometer\"], ax=axes[1])\n",
    "sns.boxplot(y=df[\"year\"], ax=axes[2])\n",
    "sns.boxplot(y=df[\"lat\"], ax=axes[3])\n",
    "sns.boxplot(y=df[\"long\"], ax=axes[4])\n",
    "plt.subplots_adjust(wspace=1)"
   ]
  },
  {
   "cell_type": "markdown",
   "metadata": {},
   "source": [
    "#### Shows the number of occurrences of some category"
   ]
  },
  {
   "cell_type": "code",
   "execution_count": null,
   "metadata": {},
   "outputs": [],
   "source": [
    "sns.countplot(x = 'condition', data = df)"
   ]
  },
  {
   "cell_type": "code",
   "execution_count": null,
   "metadata": {},
   "outputs": [],
   "source": [
    "sns.countplot(x = 'fuel', data = df)"
   ]
  },
  {
   "cell_type": "code",
   "execution_count": null,
   "metadata": {},
   "outputs": [],
   "source": [
    "sns.countplot(x = 'cylinders', data = df)"
   ]
  },
  {
   "cell_type": "code",
   "execution_count": null,
   "metadata": {},
   "outputs": [],
   "source": [
    "sns.countplot(x = 'type', data = df)"
   ]
  },
  {
   "cell_type": "code",
   "execution_count": null,
   "metadata": {},
   "outputs": [],
   "source": [
    "sns.countplot(x = 'title_status', data = df)"
   ]
  },
  {
   "cell_type": "code",
   "execution_count": null,
   "metadata": {},
   "outputs": [],
   "source": [
    "sns.countplot(x = 'transmission', data = df)"
   ]
  },
  {
   "cell_type": "code",
   "execution_count": null,
   "metadata": {},
   "outputs": [],
   "source": [
    "sns.countplot(x = 'drive', data = df)"
   ]
  },
  {
   "cell_type": "code",
   "execution_count": null,
   "metadata": {},
   "outputs": [],
   "source": [
    "sns.countplot(x = 'size', data = df)"
   ]
  },
  {
   "cell_type": "code",
   "execution_count": null,
   "metadata": {},
   "outputs": [],
   "source": [
    "sns.countplot(x = 'state', data = df)"
   ]
  },
  {
   "cell_type": "code",
   "execution_count": null,
   "metadata": {},
   "outputs": [],
   "source": [
    "sns.countplot(x = 'region', data = df)"
   ]
  },
  {
   "cell_type": "code",
   "execution_count": null,
   "metadata": {},
   "outputs": [],
   "source": [
    "sns.countplot(x = 'paint_color', data = df)"
   ]
  },
  {
   "cell_type": "markdown",
   "metadata": {},
   "source": [
    "#### Check data distribution"
   ]
  },
  {
   "cell_type": "code",
   "execution_count": null,
   "metadata": {},
   "outputs": [],
   "source": [
    "sns.distplot(df[df['year'].notnull()]['year'], kde=False, bins=10);"
   ]
  },
  {
   "cell_type": "code",
   "execution_count": null,
   "metadata": {},
   "outputs": [],
   "source": [
    "sns.distplot(df[df['odometer'].notnull()]['odometer'], kde=False, bins=10);"
   ]
  },
  {
   "cell_type": "code",
   "execution_count": null,
   "metadata": {},
   "outputs": [],
   "source": [
    "sns.distplot(df[df['price'].notnull()]['price'], kde=False, bins=10);"
   ]
  },
  {
   "cell_type": "code",
   "execution_count": null,
   "metadata": {},
   "outputs": [],
   "source": [
    "#correlation between odometer and price\n",
    "\n",
    "plt.figure(figsize=(100, 100))\n",
    "df_nona= df[df['odometer'].notnull()]\n",
    "g = sns.pairplot(df_nona[['price', 'odometer']] )"
   ]
  },
  {
   "cell_type": "code",
   "execution_count": null,
   "metadata": {},
   "outputs": [],
   "source": [
    "#correlation between price and year\n",
    "\n",
    "plt.figure(figsize=(100, 100))\n",
    "df_nona= df[df['year'].notnull()]\n",
    "g = sns.pairplot(df_nona[['price', 'year']] )"
   ]
  },
  {
   "cell_type": "markdown",
   "metadata": {},
   "source": [
    "### Data Preparation"
   ]
  },
  {
   "cell_type": "code",
   "execution_count": null,
   "metadata": {},
   "outputs": [],
   "source": [
    "#county doesn't have any values and we don't need unnamed column\n",
    "df = df.drop(columns = ['Unnamed: 0','county'])"
   ]
  },
  {
   "cell_type": "code",
   "execution_count": null,
   "metadata": {},
   "outputs": [],
   "source": [
    "df.columns"
   ]
  },
  {
   "cell_type": "markdown",
   "metadata": {},
   "source": [
    "#### Dealing with Missing Value"
   ]
  },
  {
   "cell_type": "code",
   "execution_count": null,
   "metadata": {},
   "outputs": [],
   "source": [
    "df = df.replace(0, np.NaN)\n",
    "\n",
    "# fill missing values with mean column values\n",
    "df['odometer'].fillna(df['odometer'].mean(), inplace=True)\n",
    "df['price'].fillna(df['price'].mean(), inplace=True)\n",
    "df['year'].fillna(df['year'].mean(), inplace=True)\n",
    "df['lat'].fillna(df['lat'].mean(), inplace=True)\n",
    "df['long'].fillna(df['long'].mean(), inplace=True)"
   ]
  },
  {
   "cell_type": "code",
   "execution_count": null,
   "metadata": {},
   "outputs": [],
   "source": [
    "#fill missing values with 'other'\n",
    "\n",
    "df['cylinders'].fillna('other', inplace=True)"
   ]
  },
  {
   "cell_type": "code",
   "execution_count": null,
   "metadata": {
    "scrolled": true
   },
   "outputs": [],
   "source": [
    "df['cylinders'].isnull().sum()"
   ]
  },
  {
   "cell_type": "code",
   "execution_count": null,
   "metadata": {},
   "outputs": [],
   "source": [
    "#fill missing values with 'other'\n",
    "\n",
    "df['fuel'].fillna('other', inplace=True)"
   ]
  },
  {
   "cell_type": "code",
   "execution_count": null,
   "metadata": {},
   "outputs": [],
   "source": [
    "df['fuel'].isnull().sum()"
   ]
  },
  {
   "cell_type": "code",
   "execution_count": null,
   "metadata": {},
   "outputs": [],
   "source": [
    "#Max fill function for title_status\n",
    "df['title_status'].fillna(df['title_status'].value_counts().idxmax(), inplace=True)"
   ]
  },
  {
   "cell_type": "code",
   "execution_count": null,
   "metadata": {},
   "outputs": [],
   "source": [
    "df['title_status'].isnull().sum()"
   ]
  },
  {
   "cell_type": "code",
   "execution_count": null,
   "metadata": {},
   "outputs": [],
   "source": [
    "#fill missing values with 'other'\n",
    "\n",
    "df['transmission'].fillna('other', inplace=True)"
   ]
  },
  {
   "cell_type": "code",
   "execution_count": null,
   "metadata": {},
   "outputs": [],
   "source": [
    "df['transmission'].isnull().sum()"
   ]
  },
  {
   "cell_type": "code",
   "execution_count": null,
   "metadata": {},
   "outputs": [],
   "source": [
    "#fill missing values with 'other'\n",
    "\n",
    "df['drive'].fillna('other', inplace=True)"
   ]
  },
  {
   "cell_type": "code",
   "execution_count": null,
   "metadata": {},
   "outputs": [],
   "source": [
    "#fill missing values with 'other'\n",
    "\n",
    "df['type'].fillna('other', inplace=True)"
   ]
  },
  {
   "cell_type": "code",
   "execution_count": null,
   "metadata": {},
   "outputs": [],
   "source": [
    "df = df.drop(columns = ['vin', 'paint_color','size','id','url','region_url','image_url','description'])"
   ]
  },
  {
   "cell_type": "code",
   "execution_count": null,
   "metadata": {},
   "outputs": [],
   "source": [
    "df.dropna(inplace=True)"
   ]
  },
  {
   "cell_type": "markdown",
   "metadata": {},
   "source": [
    "##### Dealing with Outliers"
   ]
  },
  {
   "cell_type": "code",
   "execution_count": null,
   "metadata": {},
   "outputs": [],
   "source": [
    "from scipy import stats\n",
    "\n",
    "z = np.abs(stats.zscore(df[['odometer','price','year','lat','long']]))\n",
    "df= df[(z < 3).all(axis=1)]"
   ]
  },
  {
   "cell_type": "code",
   "execution_count": null,
   "metadata": {},
   "outputs": [],
   "source": [
    "df.shape"
   ]
  },
  {
   "cell_type": "markdown",
   "metadata": {},
   "source": [
    "### Feature Engineering"
   ]
  },
  {
   "cell_type": "code",
   "execution_count": null,
   "metadata": {},
   "outputs": [],
   "source": [
    "from sklearn.preprocessing import LabelEncoder\n",
    "\n",
    "labelencoder = LabelEncoder()\n",
    "df['cylinders'] = labelencoder.fit_transform(df['cylinders'])\n",
    "labelencoder = LabelEncoder()\n",
    "df['title_status'] = labelencoder.fit_transform(df['title_status'])\n",
    "labelencoder = LabelEncoder()\n",
    "df['manufacturer'] = labelencoder.fit_transform(df['manufacturer'])\n",
    "labelencoder = LabelEncoder()\n",
    "df['model'] = labelencoder.fit_transform(df['model'])\n",
    "labelencoder = LabelEncoder()\n",
    "df['region'] = labelencoder.fit_transform(df['region'])"
   ]
  },
  {
   "cell_type": "code",
   "execution_count": null,
   "metadata": {},
   "outputs": [],
   "source": [
    "labelencoder = LabelEncoder()\n",
    "df['condition'] = labelencoder.fit_transform(df['condition'])"
   ]
  },
  {
   "cell_type": "code",
   "execution_count": null,
   "metadata": {},
   "outputs": [],
   "source": [
    "enc = pd.get_dummies(df[['drive', 'fuel', 'state', 'transmission', 'type']])\n",
    "df = df.join(enc)\n",
    "df.head()"
   ]
  },
  {
   "cell_type": "code",
   "execution_count": null,
   "metadata": {},
   "outputs": [],
   "source": [
    "sc = MinMaxScaler()\n",
    "df[['price', 'year', 'odometer', 'cylinders', 'title_status', 'manufacturer', 'model', 'region', 'lat', 'long']] = sc.fit_transform(df[['price', 'year', 'odometer', 'cylinders', 'title_status', 'manufacturer', 'model','region', 'lat', 'long']])\n",
    "df.head()"
   ]
  },
  {
   "cell_type": "code",
   "execution_count": null,
   "metadata": {},
   "outputs": [],
   "source": [
    "df.columns"
   ]
  },
  {
   "cell_type": "code",
   "execution_count": null,
   "metadata": {},
   "outputs": [],
   "source": [
    "# dataset for clustering\n",
    "df.to_csv('used_car_clustering.csv')"
   ]
  },
  {
   "cell_type": "markdown",
   "metadata": {},
   "source": [
    "### Clustering"
   ]
  },
  {
   "cell_type": "code",
   "execution_count": null,
   "metadata": {},
   "outputs": [],
   "source": [
    "#calculate euclidian distance\n",
    "def euclidian(u, v):\n",
    "    return sum((p-q)**2 for p, q in zip(u, v))**0.5"
   ]
  },
  {
   "cell_type": "code",
   "execution_count": null,
   "metadata": {},
   "outputs": [],
   "source": [
    "def kmeans(n_neighbour, n_feat, centroids):\n",
    "    #perform k-means algorithm until all centroid point has same value\n",
    "    while (True):\n",
    "        cluster = []\n",
    "\n",
    "        for i in range(len(X)):\n",
    "            euclid = []\n",
    "            #calculate euclidian distance\n",
    "            for l in range(0, n_neighbour):\n",
    "                euclid.append(euclidian(X[i][:n_feat],centroids[l]))\n",
    "            #select cluster from minimum euclidean\n",
    "            idx = np.argmin(euclid)\n",
    "            cluster.append(idx+1)\n",
    "            #add cluster to X\n",
    "            X[i][n_feat] = idx+1\n",
    "\n",
    "        #clustering the centroids\n",
    "        group = {}\n",
    "        for j in set(cluster):\n",
    "            group[j] = [i for i in range(len(cluster)) if cluster[i] == j]\n",
    "    \n",
    "        #store centroid information of each cluster\n",
    "        dataX = {}\n",
    "        for j in range(1,n_neighbour+1):\n",
    "            dataX[j] = [X[group[j][i]][:n_feat] for i in range(len(group[j]))]\n",
    "        \n",
    "        #assign new centroids to each cluster\n",
    "        new_centroids = []\n",
    "        for l in range(1,n_neighbour+1):\n",
    "            new_centroids.append(np.mean(dataX[l], axis=0).tolist())\n",
    "        \n",
    "        if (centroids == new_centroids):\n",
    "            return centroids\n",
    "#             break\n",
    "        \n",
    "        centroids = copy.copy(new_centroids)"
   ]
  },
  {
   "cell_type": "markdown",
   "metadata": {},
   "source": [
    "### Eksperimen 1"
   ]
  },
  {
   "cell_type": "code",
   "execution_count": null,
   "metadata": {
    "scrolled": true
   },
   "outputs": [],
   "source": [
    "kn = [2,3,4,5,7]\n",
    "sil = []\n",
    "\n",
    "#perform silhoutte metrics for each kmeans clustering with different k in feature manufacturer and price\n",
    "for k in kn:\n",
    "    X = df[['manufacturer','price']]\n",
    "    X['cluster'] = 0\n",
    "    X = X.values.tolist()\n",
    "    n_feat = 2\n",
    "    centroids = []\n",
    "    for i in range(k):\n",
    "        rand = np.random.randint(0, len(X)-1)\n",
    "        centroids.append(X[rand][:n_feat])\n",
    "    km = kmeans(k, n_feat, centroids)\n",
    "    xy = pd.DataFrame(data=X)\n",
    "    sc = silhouette_score(xy.iloc[:,[0,1]], xy[2], metric = 'euclidean')\n",
    "    sil.append(sc)"
   ]
  },
  {
   "cell_type": "code",
   "execution_count": null,
   "metadata": {},
   "outputs": [],
   "source": [
    "plt.plot(kn, sil, 'bx-') \n",
    "plt.xlabel('Values of K') \n",
    "plt.ylabel('Silhoutte score') \n",
    "plt.title('Silhoutte score for each K') \n",
    "plt.show() "
   ]
  },
  {
   "cell_type": "code",
   "execution_count": null,
   "metadata": {},
   "outputs": [],
   "source": [
    "X = df[['manufacturer','price']]\n",
    "X['cluster'] = 0\n",
    "X = X.values.tolist()\n",
    "k = 4\n",
    "n_feat = 2\n",
    "centroids = []\n",
    "for i in range(k):\n",
    "    rand = np.random.randint(0, len(X)-1)\n",
    "    centroids.append(X[rand][:n_feat])\n",
    "km = kmeans(k, n_feat, centroids)"
   ]
  },
  {
   "cell_type": "code",
   "execution_count": null,
   "metadata": {},
   "outputs": [],
   "source": [
    "X = np.array(X)\n",
    "xy = pd.DataFrame(data=X)\n",
    "output = plt.scatter(X[:,0], X[:,1], s = 100, c = xy[2], marker = 'o', alpha = 1, )\n",
    "centers = np.array(centroids)\n",
    "plt.scatter(centers[:,0], centers[:,1], c='red', s=200, alpha=1 , marker='o');\n",
    "plt.title('Hasil Klustering K-Means')\n",
    "plt.colorbar (output)\n",
    "plt.show()"
   ]
  },
  {
   "cell_type": "code",
   "execution_count": null,
   "metadata": {},
   "outputs": [],
   "source": [
    "score = silhouette_score(xy.iloc[:,[0,n_feat-1]], xy[n_feat], metric = 'euclidean')\n",
    "score"
   ]
  },
  {
   "cell_type": "markdown",
   "metadata": {},
   "source": [
    "### Eksperimen 2"
   ]
  },
  {
   "cell_type": "code",
   "execution_count": null,
   "metadata": {},
   "outputs": [],
   "source": [
    "kn = [2,3,4,5,7]\n",
    "sil = []\n",
    "#perform silhoutte metrics for each kmeans clustering with different k in feature lat and long\n",
    "for k in kn:\n",
    "    X = df[['lat','long']]\n",
    "    X['cluster'] = 0\n",
    "    scaler = MinMaxScaler()\n",
    "    X = scaler.fit_transform(X)\n",
    "    X = X.tolist()\n",
    "    n_feat = 2\n",
    "    centroids = []\n",
    "    for i in range(k):\n",
    "        rand = np.random.randint(0, len(X)-1)\n",
    "        centroids.append(X[rand][:n_feat])\n",
    "    km = kmeans(k, n_feat, centroids)\n",
    "    xy = pd.DataFrame(data=X)\n",
    "    sc = silhouette_score(xy.iloc[:,[0,1]], xy[2], metric = 'euclidean')\n",
    "    sil.append(sc)"
   ]
  },
  {
   "cell_type": "code",
   "execution_count": null,
   "metadata": {},
   "outputs": [],
   "source": [
    "plt.plot(kn, sil, 'bx-') \n",
    "plt.xlabel('Values of K') \n",
    "plt.ylabel('Silhoutte score') \n",
    "plt.title('Silhoutte score for each K') \n",
    "plt.show() "
   ]
  },
  {
   "cell_type": "code",
   "execution_count": null,
   "metadata": {},
   "outputs": [],
   "source": [
    "X = df[['lat','long']]\n",
    "X['cluster'] = 0\n",
    "X.head()\n",
    "scaler = MinMaxScaler()\n",
    "X = scaler.fit_transform(X)\n",
    "X = X.tolist()\n",
    "k = 2\n",
    "n_feat = 2\n",
    "centroids = []\n",
    "for i in range(k):\n",
    "    rand = np.random.randint(0, len(X)-1)\n",
    "    centroids.append(X[rand][:n_feat])\n",
    "km = kmeans(k, n_feat, centroids)"
   ]
  },
  {
   "cell_type": "code",
   "execution_count": null,
   "metadata": {},
   "outputs": [],
   "source": [
    "X = np.array(X)\n",
    "xy = pd.DataFrame(data=X)\n",
    "output = plt.scatter(X[:,0], X[:,1], s = 100, c = xy[2], marker = 'o', alpha = 1, )\n",
    "centers = np.array(centroids)\n",
    "plt.scatter(centers[:,0], centers[:,1], c='red', s=200, alpha=1 , marker='o');\n",
    "plt.title('Hasil Klustering K-Means')\n",
    "plt.colorbar (output)\n",
    "plt.show()"
   ]
  },
  {
   "cell_type": "code",
   "execution_count": null,
   "metadata": {},
   "outputs": [],
   "source": [
    "score = silhouette_score(xy.iloc[:,[0,n_feat-1]], xy[n_feat], metric = 'euclidean')\n",
    "score"
   ]
  },
  {
   "cell_type": "code",
   "execution_count": null,
   "metadata": {},
   "outputs": [],
   "source": []
  }
 ],
 "metadata": {
  "kernelspec": {
   "display_name": "Python 3",
   "language": "python",
   "name": "python3"
  },
  "language_info": {
   "codemirror_mode": {
    "name": "ipython",
    "version": 3
   },
   "file_extension": ".py",
   "mimetype": "text/x-python",
   "name": "python",
   "nbconvert_exporter": "python",
   "pygments_lexer": "ipython3",
   "version": "3.6.4"
  }
 },
 "nbformat": 4,
 "nbformat_minor": 2
}
