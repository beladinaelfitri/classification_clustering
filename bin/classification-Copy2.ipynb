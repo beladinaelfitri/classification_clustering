{
 "cells": [
  {
   "cell_type": "code",
   "execution_count": 1,
   "metadata": {},
   "outputs": [],
   "source": [
    "import numpy as np\n",
    "import pandas as pd\n",
    "from sklearn.model_selection import train_test_split\n",
    "from sklearn.preprocessing import MinMaxScaler\n",
    "from sklearn.preprocessing import LabelEncoder\n",
    "#Import model library\n",
    "from sklearn.svm import SVC\n",
    "from sklearn.ensemble import RandomForestClassifier\n",
    "from xgboost import XGBClassifier\n",
    "from sklearn.neighbors import KNeighborsClassifier\n",
    "from sklearn.tree import DecisionTreeClassifier\n",
    "#Import scikit-learn metrics module for accuracy calculation\n",
    "from sklearn import metrics\n",
    "from sklearn.metrics import confusion_matrix, f1_score, classification_report\n",
    "#Import library for plotting\n",
    "import matplotlib.pyplot as plt\n",
    "import seaborn as sns"
   ]
  },
  {
   "cell_type": "code",
   "execution_count": 2,
   "metadata": {},
   "outputs": [],
   "source": [
    "df = pd.read_csv('used_cars.csv')"
   ]
  },
  {
   "cell_type": "markdown",
   "metadata": {},
   "source": [
    "### Data Exploration"
   ]
  },
  {
   "cell_type": "code",
   "execution_count": null,
   "metadata": {},
   "outputs": [],
   "source": [
    "df.head()"
   ]
  },
  {
   "cell_type": "code",
   "execution_count": null,
   "metadata": {},
   "outputs": [],
   "source": [
    "#number of records and column\n",
    "df.shape"
   ]
  },
  {
   "cell_type": "code",
   "execution_count": null,
   "metadata": {},
   "outputs": [],
   "source": [
    "df.describe()"
   ]
  },
  {
   "cell_type": "code",
   "execution_count": null,
   "metadata": {},
   "outputs": [],
   "source": [
    "#datatype for each column\n",
    "df.dtypes"
   ]
  },
  {
   "cell_type": "code",
   "execution_count": null,
   "metadata": {},
   "outputs": [],
   "source": [
    "df._get_numeric_data().columns"
   ]
  },
  {
   "cell_type": "code",
   "execution_count": null,
   "metadata": {},
   "outputs": [],
   "source": [
    "#correlation matrix\n",
    "\n",
    "corrmat = df.corr()\n",
    "f, ax = plt.subplots(figsize=(12, 9))\n",
    "sns.heatmap(corrmat, annot=True, square=True)"
   ]
  },
  {
   "cell_type": "code",
   "execution_count": null,
   "metadata": {},
   "outputs": [],
   "source": [
    "#check missing value\n",
    "\n",
    "total = df.isnull().sum().sort_values(ascending=False)\n",
    "percent = (df.isnull().sum()/df.isnull().count()).sort_values(ascending=False)\n",
    "missing_data = pd.concat([total, percent], axis=1, keys=['Total', 'Percent'])\n",
    "missing_data"
   ]
  },
  {
   "cell_type": "code",
   "execution_count": null,
   "metadata": {},
   "outputs": [],
   "source": [
    "#check outliers using boxplot\n",
    "\n",
    "plt.figure(figsize=(60, 60))\n",
    "f, axes = plt.subplots(1, 5)\n",
    "sns.boxplot(y=df[\"price\"], ax=axes[0])\n",
    "sns.boxplot(y=df[\"odometer\"], ax=axes[1])\n",
    "sns.boxplot(y=df[\"year\"], ax=axes[2])\n",
    "sns.boxplot(y=df[\"lat\"], ax=axes[3])\n",
    "sns.boxplot(y=df[\"long\"], ax=axes[4])\n",
    "plt.subplots_adjust(wspace=1)"
   ]
  },
  {
   "cell_type": "markdown",
   "metadata": {},
   "source": [
    "#### Shows the number of occurrences of some category"
   ]
  },
  {
   "cell_type": "code",
   "execution_count": null,
   "metadata": {},
   "outputs": [],
   "source": [
    "df['condition'].value_counts()"
   ]
  },
  {
   "cell_type": "code",
   "execution_count": null,
   "metadata": {},
   "outputs": [],
   "source": [
    "sns.countplot(x = 'condition', data = df)"
   ]
  },
  {
   "cell_type": "code",
   "execution_count": null,
   "metadata": {},
   "outputs": [],
   "source": [
    "df['fuel'].value_counts()"
   ]
  },
  {
   "cell_type": "code",
   "execution_count": null,
   "metadata": {},
   "outputs": [],
   "source": [
    "sns.countplot(x = 'fuel', data = df)"
   ]
  },
  {
   "cell_type": "code",
   "execution_count": null,
   "metadata": {},
   "outputs": [],
   "source": [
    "sns.countplot(x = 'cylinders', data = df)"
   ]
  },
  {
   "cell_type": "code",
   "execution_count": null,
   "metadata": {},
   "outputs": [],
   "source": [
    "sns.countplot(x = 'type', data = df)"
   ]
  },
  {
   "cell_type": "code",
   "execution_count": null,
   "metadata": {},
   "outputs": [],
   "source": [
    "sns.countplot(x = 'title_status', data = df)"
   ]
  },
  {
   "cell_type": "code",
   "execution_count": null,
   "metadata": {},
   "outputs": [],
   "source": [
    "sns.countplot(x = 'transmission', data = df)"
   ]
  },
  {
   "cell_type": "code",
   "execution_count": null,
   "metadata": {},
   "outputs": [],
   "source": [
    "sns.countplot(x = 'drive', data = df)"
   ]
  },
  {
   "cell_type": "code",
   "execution_count": null,
   "metadata": {},
   "outputs": [],
   "source": [
    "sns.countplot(x = 'size', data = df)"
   ]
  },
  {
   "cell_type": "code",
   "execution_count": null,
   "metadata": {},
   "outputs": [],
   "source": [
    "sns.countplot(x = 'state', data = df)"
   ]
  },
  {
   "cell_type": "code",
   "execution_count": null,
   "metadata": {},
   "outputs": [],
   "source": [
    "sns.countplot(x = 'region', data = df)"
   ]
  },
  {
   "cell_type": "code",
   "execution_count": null,
   "metadata": {},
   "outputs": [],
   "source": [
    "sns.countplot(x = 'paint_color', data = df)"
   ]
  },
  {
   "cell_type": "markdown",
   "metadata": {},
   "source": [
    "#### Check data distribution"
   ]
  },
  {
   "cell_type": "code",
   "execution_count": null,
   "metadata": {},
   "outputs": [],
   "source": [
    "sns.distplot(df[df['year'].notnull()]['year'], kde=False, bins=10);"
   ]
  },
  {
   "cell_type": "code",
   "execution_count": null,
   "metadata": {},
   "outputs": [],
   "source": [
    "sns.distplot(df[df['odometer'].notnull()]['odometer'], kde=False, bins=10);"
   ]
  },
  {
   "cell_type": "code",
   "execution_count": null,
   "metadata": {},
   "outputs": [],
   "source": [
    "sns.distplot(df[df['price'].notnull()]['price'], kde=False, bins=10);"
   ]
  },
  {
   "cell_type": "code",
   "execution_count": null,
   "metadata": {},
   "outputs": [],
   "source": [
    "#correlation between odometer and price\n",
    "\n",
    "plt.figure(figsize=(100, 100))\n",
    "df_nona= df[df['odometer'].notnull()]\n",
    "g = sns.pairplot(df_nona[['price', 'odometer']] )"
   ]
  },
  {
   "cell_type": "code",
   "execution_count": null,
   "metadata": {},
   "outputs": [],
   "source": [
    "#correlation between price and year\n",
    "\n",
    "plt.figure(figsize=(100, 100))\n",
    "df_nona= df[df['year'].notnull()]\n",
    "g = sns.pairplot(df_nona[['price', 'year']] )"
   ]
  },
  {
   "cell_type": "markdown",
   "metadata": {},
   "source": [
    "### Data Preparation"
   ]
  },
  {
   "cell_type": "code",
   "execution_count": 3,
   "metadata": {},
   "outputs": [],
   "source": [
    "#county doesn't have any values and we don't need unnamed column\n",
    "df = df.drop(columns = ['Unnamed: 0','county'])"
   ]
  },
  {
   "cell_type": "code",
   "execution_count": 4,
   "metadata": {},
   "outputs": [
    {
     "data": {
      "text/plain": [
       "Index(['id', 'url', 'region', 'region_url', 'price', 'year', 'manufacturer',\n",
       "       'model', 'condition', 'cylinders', 'fuel', 'odometer', 'title_status',\n",
       "       'transmission', 'vin', 'drive', 'size', 'type', 'paint_color',\n",
       "       'image_url', 'description', 'state', 'lat', 'long'],\n",
       "      dtype='object')"
      ]
     },
     "execution_count": 4,
     "metadata": {},
     "output_type": "execute_result"
    }
   ],
   "source": [
    "df.columns"
   ]
  },
  {
   "cell_type": "markdown",
   "metadata": {},
   "source": [
    "#### Dealing with Missing Value"
   ]
  },
  {
   "cell_type": "code",
   "execution_count": 5,
   "metadata": {},
   "outputs": [],
   "source": [
    "#Max fill function for manufacturer\n",
    "df['model'].fillna(df['model'].value_counts().idxmax(), inplace=True)"
   ]
  },
  {
   "cell_type": "code",
   "execution_count": 6,
   "metadata": {},
   "outputs": [],
   "source": [
    "df = df.replace(0, np.NaN)\n",
    "\n",
    "# fill missing values with mean column values\n",
    "df['odometer'].fillna(df['odometer'].mean(), inplace=True)\n",
    "df['price'].fillna(df['price'].mean(), inplace=True)\n",
    "df['year'].fillna(df['year'].mean(), inplace=True)\n",
    "df['lat'].fillna(df['lat'].mean(), inplace=True)\n",
    "df['long'].fillna(df['long'].mean(), inplace=True)"
   ]
  },
  {
   "cell_type": "code",
   "execution_count": 7,
   "metadata": {},
   "outputs": [],
   "source": [
    "#fill missing values with 'other'\n",
    "\n",
    "df['cylinders'].fillna('other', inplace=True)"
   ]
  },
  {
   "cell_type": "code",
   "execution_count": 8,
   "metadata": {
    "scrolled": true
   },
   "outputs": [
    {
     "data": {
      "text/plain": [
       "0"
      ]
     },
     "execution_count": 8,
     "metadata": {},
     "output_type": "execute_result"
    }
   ],
   "source": [
    "df['cylinders'].isnull().sum()"
   ]
  },
  {
   "cell_type": "code",
   "execution_count": 9,
   "metadata": {},
   "outputs": [],
   "source": [
    "#fill missing values with 'other'\n",
    "\n",
    "df['fuel'].fillna('other', inplace=True)"
   ]
  },
  {
   "cell_type": "code",
   "execution_count": 10,
   "metadata": {},
   "outputs": [
    {
     "data": {
      "text/plain": [
       "0"
      ]
     },
     "execution_count": 10,
     "metadata": {},
     "output_type": "execute_result"
    }
   ],
   "source": [
    "df['fuel'].isnull().sum()"
   ]
  },
  {
   "cell_type": "code",
   "execution_count": 11,
   "metadata": {},
   "outputs": [],
   "source": [
    "#Max fill function for title_status\n",
    "df['title_status'].fillna(df['title_status'].value_counts().idxmax(), inplace=True)"
   ]
  },
  {
   "cell_type": "code",
   "execution_count": 12,
   "metadata": {},
   "outputs": [
    {
     "data": {
      "text/plain": [
       "0"
      ]
     },
     "execution_count": 12,
     "metadata": {},
     "output_type": "execute_result"
    }
   ],
   "source": [
    "df['title_status'].isnull().sum()"
   ]
  },
  {
   "cell_type": "code",
   "execution_count": 13,
   "metadata": {},
   "outputs": [],
   "source": [
    "#fill missing values with 'other'\n",
    "\n",
    "df['transmission'].fillna('other', inplace=True)"
   ]
  },
  {
   "cell_type": "code",
   "execution_count": 14,
   "metadata": {},
   "outputs": [
    {
     "data": {
      "text/plain": [
       "0"
      ]
     },
     "execution_count": 14,
     "metadata": {},
     "output_type": "execute_result"
    }
   ],
   "source": [
    "df['transmission'].isnull().sum()"
   ]
  },
  {
   "cell_type": "code",
   "execution_count": 15,
   "metadata": {},
   "outputs": [],
   "source": [
    "#fill missing values with 'other'\n",
    "\n",
    "df['drive'].fillna('other', inplace=True)"
   ]
  },
  {
   "cell_type": "code",
   "execution_count": 16,
   "metadata": {},
   "outputs": [
    {
     "data": {
      "text/plain": [
       "0"
      ]
     },
     "execution_count": 16,
     "metadata": {},
     "output_type": "execute_result"
    }
   ],
   "source": [
    "df['drive'].isnull().sum()"
   ]
  },
  {
   "cell_type": "code",
   "execution_count": 17,
   "metadata": {},
   "outputs": [],
   "source": [
    "#fill missing values with 'other'\n",
    "\n",
    "df['type'].fillna('other', inplace=True)"
   ]
  },
  {
   "cell_type": "code",
   "execution_count": 18,
   "metadata": {},
   "outputs": [
    {
     "data": {
      "text/plain": [
       "0"
      ]
     },
     "execution_count": 18,
     "metadata": {},
     "output_type": "execute_result"
    }
   ],
   "source": [
    "df['type'].isnull().sum()"
   ]
  },
  {
   "cell_type": "code",
   "execution_count": 19,
   "metadata": {},
   "outputs": [],
   "source": [
    "df = df.drop(columns = ['vin', 'paint_color','size','id','url','region_url','image_url','description'])"
   ]
  },
  {
   "cell_type": "code",
   "execution_count": 20,
   "metadata": {},
   "outputs": [],
   "source": [
    "df.dropna(inplace=True)"
   ]
  },
  {
   "cell_type": "markdown",
   "metadata": {},
   "source": [
    "##### Dealing with Outliers"
   ]
  },
  {
   "cell_type": "code",
   "execution_count": 21,
   "metadata": {},
   "outputs": [],
   "source": [
    "from scipy import stats\n",
    "\n",
    "z = np.abs(stats.zscore(df[['odometer','price','lat', 'long']]))\n",
    "df= df[(z < 3).all(axis=1)]"
   ]
  },
  {
   "cell_type": "code",
   "execution_count": 22,
   "metadata": {},
   "outputs": [
    {
     "data": {
      "text/plain": [
       "(10414, 16)"
      ]
     },
     "execution_count": 22,
     "metadata": {},
     "output_type": "execute_result"
    }
   ],
   "source": [
    "df.shape"
   ]
  },
  {
   "cell_type": "markdown",
   "metadata": {},
   "source": [
    "### Feature Engineering"
   ]
  },
  {
   "cell_type": "markdown",
   "metadata": {},
   "source": [
    "#### Binning"
   ]
  },
  {
   "cell_type": "code",
   "execution_count": 23,
   "metadata": {},
   "outputs": [],
   "source": [
    "#binning for cylinders to reduce imbalance data\n",
    "\n",
    "cylinders_conditions = [\n",
    "    df['cylinders'].str.contains('6 cylinders'),\n",
    "    df['cylinders'].str.contains('4 cylinders'),\n",
    "    df['cylinders'].str.contains('8 cylinders')]\n",
    "choices = ['medium', 'small', 'large']\n",
    "df['cylinders'] = np.select(cylinders_conditions, choices, default='other')"
   ]
  },
  {
   "cell_type": "code",
   "execution_count": 24,
   "metadata": {},
   "outputs": [],
   "source": [
    "#binning for fuel to reduce imbalance data\n",
    "\n",
    "fuel_conditions = [\n",
    "    df['fuel'].str.contains('gas'),\n",
    "    df['fuel'].str.contains('diesel')]\n",
    "fuel_choices = ['gas', 'diesel']\n",
    "df['fuel'] = np.select(fuel_conditions, fuel_choices, default='other')"
   ]
  },
  {
   "cell_type": "code",
   "execution_count": 25,
   "metadata": {},
   "outputs": [],
   "source": [
    "#binning for condition to reduce imbalance data\n",
    "\n",
    "conditions = [\n",
    "    df['condition'].str.contains('excellent'),\n",
    "    df['condition'].str.contains('good'),\n",
    "    df['condition'].str.contains('like new'),\n",
    "    df['condition'].str.contains('fair'),\n",
    "    df['condition'].str.contains('salvage'),\n",
    "    df['condition'].str.contains('new')]\n",
    "choices = ['excellent', 'good', 'excellent', 'good', 'good', 'excellent']\n",
    "df['condition'] = np.select(conditions, choices, default='other')"
   ]
  },
  {
   "cell_type": "code",
   "execution_count": 26,
   "metadata": {},
   "outputs": [],
   "source": [
    "#binning for title status to reduce imbalance data\n",
    "\n",
    "status_conditions = [\n",
    "    df['title_status'].str.contains('clean'),\n",
    "    df['title_status'].str.contains('rebuilt')]\n",
    "choices = ['excellent', 'good']\n",
    "df['title_status'] = np.select(status_conditions, choices, default='fair')"
   ]
  },
  {
   "cell_type": "markdown",
   "metadata": {},
   "source": [
    "#### Encoding categorical data"
   ]
  },
  {
   "cell_type": "code",
   "execution_count": 27,
   "metadata": {},
   "outputs": [],
   "source": [
    "labelencoder = LabelEncoder()\n",
    "df['cylinders'] = labelencoder.fit_transform(df['cylinders'])\n",
    "labelencoder = LabelEncoder()\n",
    "df['title_status'] = labelencoder.fit_transform(df['title_status'])\n",
    "labelencoder = LabelEncoder()\n",
    "df['manufacturer'] = labelencoder.fit_transform(df['manufacturer'])\n",
    "labelencoder = LabelEncoder()\n",
    "df['model'] = labelencoder.fit_transform(df['model'])\n",
    "labelencoder = LabelEncoder()\n",
    "df['region'] = labelencoder.fit_transform(df['region'])"
   ]
  },
  {
   "cell_type": "code",
   "execution_count": 28,
   "metadata": {},
   "outputs": [
    {
     "data": {
      "text/html": [
       "<div>\n",
       "<style scoped>\n",
       "    .dataframe tbody tr th:only-of-type {\n",
       "        vertical-align: middle;\n",
       "    }\n",
       "\n",
       "    .dataframe tbody tr th {\n",
       "        vertical-align: top;\n",
       "    }\n",
       "\n",
       "    .dataframe thead th {\n",
       "        text-align: right;\n",
       "    }\n",
       "</style>\n",
       "<table border=\"1\" class=\"dataframe\">\n",
       "  <thead>\n",
       "    <tr style=\"text-align: right;\">\n",
       "      <th></th>\n",
       "      <th>region</th>\n",
       "      <th>price</th>\n",
       "      <th>year</th>\n",
       "      <th>manufacturer</th>\n",
       "      <th>model</th>\n",
       "      <th>condition</th>\n",
       "      <th>cylinders</th>\n",
       "      <th>fuel</th>\n",
       "      <th>odometer</th>\n",
       "      <th>title_status</th>\n",
       "      <th>...</th>\n",
       "      <th>type_coupe</th>\n",
       "      <th>type_hatchback</th>\n",
       "      <th>type_mini-van</th>\n",
       "      <th>type_offroad</th>\n",
       "      <th>type_other</th>\n",
       "      <th>type_pickup</th>\n",
       "      <th>type_sedan</th>\n",
       "      <th>type_truck</th>\n",
       "      <th>type_van</th>\n",
       "      <th>type_wagon</th>\n",
       "    </tr>\n",
       "  </thead>\n",
       "  <tbody>\n",
       "    <tr>\n",
       "      <th>0</th>\n",
       "      <td>11</td>\n",
       "      <td>17899.000000</td>\n",
       "      <td>2012.0</td>\n",
       "      <td>36</td>\n",
       "      <td>1395</td>\n",
       "      <td>excellent</td>\n",
       "      <td>3</td>\n",
       "      <td>gas</td>\n",
       "      <td>63500.000000</td>\n",
       "      <td>0</td>\n",
       "      <td>...</td>\n",
       "      <td>0</td>\n",
       "      <td>1</td>\n",
       "      <td>0</td>\n",
       "      <td>0</td>\n",
       "      <td>0</td>\n",
       "      <td>0</td>\n",
       "      <td>0</td>\n",
       "      <td>0</td>\n",
       "      <td>0</td>\n",
       "      <td>0</td>\n",
       "    </tr>\n",
       "    <tr>\n",
       "      <th>1</th>\n",
       "      <td>11</td>\n",
       "      <td>87528.597156</td>\n",
       "      <td>2016.0</td>\n",
       "      <td>10</td>\n",
       "      <td>1096</td>\n",
       "      <td>excellent</td>\n",
       "      <td>2</td>\n",
       "      <td>gas</td>\n",
       "      <td>10.000000</td>\n",
       "      <td>0</td>\n",
       "      <td>...</td>\n",
       "      <td>0</td>\n",
       "      <td>0</td>\n",
       "      <td>0</td>\n",
       "      <td>0</td>\n",
       "      <td>1</td>\n",
       "      <td>0</td>\n",
       "      <td>0</td>\n",
       "      <td>0</td>\n",
       "      <td>0</td>\n",
       "      <td>0</td>\n",
       "    </tr>\n",
       "    <tr>\n",
       "      <th>2</th>\n",
       "      <td>11</td>\n",
       "      <td>46463.000000</td>\n",
       "      <td>2015.0</td>\n",
       "      <td>11</td>\n",
       "      <td>2184</td>\n",
       "      <td>excellent</td>\n",
       "      <td>2</td>\n",
       "      <td>gas</td>\n",
       "      <td>7554.000000</td>\n",
       "      <td>0</td>\n",
       "      <td>...</td>\n",
       "      <td>0</td>\n",
       "      <td>0</td>\n",
       "      <td>0</td>\n",
       "      <td>0</td>\n",
       "      <td>1</td>\n",
       "      <td>0</td>\n",
       "      <td>0</td>\n",
       "      <td>0</td>\n",
       "      <td>0</td>\n",
       "      <td>0</td>\n",
       "    </tr>\n",
       "    <tr>\n",
       "      <th>3</th>\n",
       "      <td>11</td>\n",
       "      <td>87528.597156</td>\n",
       "      <td>2016.0</td>\n",
       "      <td>10</td>\n",
       "      <td>1096</td>\n",
       "      <td>excellent</td>\n",
       "      <td>2</td>\n",
       "      <td>gas</td>\n",
       "      <td>10.000000</td>\n",
       "      <td>0</td>\n",
       "      <td>...</td>\n",
       "      <td>0</td>\n",
       "      <td>0</td>\n",
       "      <td>0</td>\n",
       "      <td>0</td>\n",
       "      <td>1</td>\n",
       "      <td>0</td>\n",
       "      <td>0</td>\n",
       "      <td>0</td>\n",
       "      <td>0</td>\n",
       "      <td>0</td>\n",
       "    </tr>\n",
       "    <tr>\n",
       "      <th>22</th>\n",
       "      <td>11</td>\n",
       "      <td>9500.000000</td>\n",
       "      <td>2001.0</td>\n",
       "      <td>10</td>\n",
       "      <td>1033</td>\n",
       "      <td>good</td>\n",
       "      <td>0</td>\n",
       "      <td>diesel</td>\n",
       "      <td>99333.548629</td>\n",
       "      <td>0</td>\n",
       "      <td>...</td>\n",
       "      <td>0</td>\n",
       "      <td>0</td>\n",
       "      <td>0</td>\n",
       "      <td>0</td>\n",
       "      <td>1</td>\n",
       "      <td>0</td>\n",
       "      <td>0</td>\n",
       "      <td>0</td>\n",
       "      <td>0</td>\n",
       "      <td>0</td>\n",
       "    </tr>\n",
       "  </tbody>\n",
       "</table>\n",
       "<p>5 rows × 43 columns</p>\n",
       "</div>"
      ],
      "text/plain": [
       "    region         price    year  manufacturer  model  condition  cylinders  \\\n",
       "0       11  17899.000000  2012.0            36   1395  excellent          3   \n",
       "1       11  87528.597156  2016.0            10   1096  excellent          2   \n",
       "2       11  46463.000000  2015.0            11   2184  excellent          2   \n",
       "3       11  87528.597156  2016.0            10   1096  excellent          2   \n",
       "22      11   9500.000000  2001.0            10   1033       good          0   \n",
       "\n",
       "      fuel      odometer  title_status     ...     type_coupe type_hatchback  \\\n",
       "0      gas  63500.000000             0     ...              0              1   \n",
       "1      gas     10.000000             0     ...              0              0   \n",
       "2      gas   7554.000000             0     ...              0              0   \n",
       "3      gas     10.000000             0     ...              0              0   \n",
       "22  diesel  99333.548629             0     ...              0              0   \n",
       "\n",
       "   type_mini-van type_offroad  type_other  type_pickup  type_sedan  \\\n",
       "0              0            0           0            0           0   \n",
       "1              0            0           1            0           0   \n",
       "2              0            0           1            0           0   \n",
       "3              0            0           1            0           0   \n",
       "22             0            0           1            0           0   \n",
       "\n",
       "    type_truck  type_van  type_wagon  \n",
       "0            0         0           0  \n",
       "1            0         0           0  \n",
       "2            0         0           0  \n",
       "3            0         0           0  \n",
       "22           0         0           0  \n",
       "\n",
       "[5 rows x 43 columns]"
      ]
     },
     "execution_count": 28,
     "metadata": {},
     "output_type": "execute_result"
    }
   ],
   "source": [
    "#one hot encoding\n",
    "enc = pd.get_dummies(df[['drive', 'fuel', 'state', 'transmission', 'type']])\n",
    "df = df.join(enc)\n",
    "df.head()"
   ]
  },
  {
   "cell_type": "markdown",
   "metadata": {},
   "source": [
    "##### Scaling"
   ]
  },
  {
   "cell_type": "code",
   "execution_count": 29,
   "metadata": {},
   "outputs": [
    {
     "data": {
      "text/html": [
       "<div>\n",
       "<style scoped>\n",
       "    .dataframe tbody tr th:only-of-type {\n",
       "        vertical-align: middle;\n",
       "    }\n",
       "\n",
       "    .dataframe tbody tr th {\n",
       "        vertical-align: top;\n",
       "    }\n",
       "\n",
       "    .dataframe thead th {\n",
       "        text-align: right;\n",
       "    }\n",
       "</style>\n",
       "<table border=\"1\" class=\"dataframe\">\n",
       "  <thead>\n",
       "    <tr style=\"text-align: right;\">\n",
       "      <th></th>\n",
       "      <th>region</th>\n",
       "      <th>price</th>\n",
       "      <th>year</th>\n",
       "      <th>manufacturer</th>\n",
       "      <th>model</th>\n",
       "      <th>condition</th>\n",
       "      <th>cylinders</th>\n",
       "      <th>fuel</th>\n",
       "      <th>odometer</th>\n",
       "      <th>title_status</th>\n",
       "      <th>...</th>\n",
       "      <th>type_coupe</th>\n",
       "      <th>type_hatchback</th>\n",
       "      <th>type_mini-van</th>\n",
       "      <th>type_offroad</th>\n",
       "      <th>type_other</th>\n",
       "      <th>type_pickup</th>\n",
       "      <th>type_sedan</th>\n",
       "      <th>type_truck</th>\n",
       "      <th>type_van</th>\n",
       "      <th>type_wagon</th>\n",
       "    </tr>\n",
       "  </thead>\n",
       "  <tbody>\n",
       "    <tr>\n",
       "      <th>0</th>\n",
       "      <td>0.733333</td>\n",
       "      <td>0.132579</td>\n",
       "      <td>0.922330</td>\n",
       "      <td>0.972973</td>\n",
       "      <td>0.498570</td>\n",
       "      <td>excellent</td>\n",
       "      <td>1.000000</td>\n",
       "      <td>gas</td>\n",
       "      <td>0.181426</td>\n",
       "      <td>0.0</td>\n",
       "      <td>...</td>\n",
       "      <td>0</td>\n",
       "      <td>1</td>\n",
       "      <td>0</td>\n",
       "      <td>0</td>\n",
       "      <td>0</td>\n",
       "      <td>0</td>\n",
       "      <td>0</td>\n",
       "      <td>0</td>\n",
       "      <td>0</td>\n",
       "      <td>0</td>\n",
       "    </tr>\n",
       "    <tr>\n",
       "      <th>1</th>\n",
       "      <td>0.733333</td>\n",
       "      <td>0.648357</td>\n",
       "      <td>0.961165</td>\n",
       "      <td>0.270270</td>\n",
       "      <td>0.391708</td>\n",
       "      <td>excellent</td>\n",
       "      <td>0.666667</td>\n",
       "      <td>gas</td>\n",
       "      <td>0.000026</td>\n",
       "      <td>0.0</td>\n",
       "      <td>...</td>\n",
       "      <td>0</td>\n",
       "      <td>0</td>\n",
       "      <td>0</td>\n",
       "      <td>0</td>\n",
       "      <td>1</td>\n",
       "      <td>0</td>\n",
       "      <td>0</td>\n",
       "      <td>0</td>\n",
       "      <td>0</td>\n",
       "      <td>0</td>\n",
       "    </tr>\n",
       "    <tr>\n",
       "      <th>2</th>\n",
       "      <td>0.733333</td>\n",
       "      <td>0.344166</td>\n",
       "      <td>0.951456</td>\n",
       "      <td>0.297297</td>\n",
       "      <td>0.780558</td>\n",
       "      <td>excellent</td>\n",
       "      <td>0.666667</td>\n",
       "      <td>gas</td>\n",
       "      <td>0.021580</td>\n",
       "      <td>0.0</td>\n",
       "      <td>...</td>\n",
       "      <td>0</td>\n",
       "      <td>0</td>\n",
       "      <td>0</td>\n",
       "      <td>0</td>\n",
       "      <td>1</td>\n",
       "      <td>0</td>\n",
       "      <td>0</td>\n",
       "      <td>0</td>\n",
       "      <td>0</td>\n",
       "      <td>0</td>\n",
       "    </tr>\n",
       "    <tr>\n",
       "      <th>3</th>\n",
       "      <td>0.733333</td>\n",
       "      <td>0.648357</td>\n",
       "      <td>0.961165</td>\n",
       "      <td>0.270270</td>\n",
       "      <td>0.391708</td>\n",
       "      <td>excellent</td>\n",
       "      <td>0.666667</td>\n",
       "      <td>gas</td>\n",
       "      <td>0.000026</td>\n",
       "      <td>0.0</td>\n",
       "      <td>...</td>\n",
       "      <td>0</td>\n",
       "      <td>0</td>\n",
       "      <td>0</td>\n",
       "      <td>0</td>\n",
       "      <td>1</td>\n",
       "      <td>0</td>\n",
       "      <td>0</td>\n",
       "      <td>0</td>\n",
       "      <td>0</td>\n",
       "      <td>0</td>\n",
       "    </tr>\n",
       "    <tr>\n",
       "      <th>22</th>\n",
       "      <td>0.733333</td>\n",
       "      <td>0.070363</td>\n",
       "      <td>0.815534</td>\n",
       "      <td>0.270270</td>\n",
       "      <td>0.369192</td>\n",
       "      <td>good</td>\n",
       "      <td>0.000000</td>\n",
       "      <td>diesel</td>\n",
       "      <td>0.283808</td>\n",
       "      <td>0.0</td>\n",
       "      <td>...</td>\n",
       "      <td>0</td>\n",
       "      <td>0</td>\n",
       "      <td>0</td>\n",
       "      <td>0</td>\n",
       "      <td>1</td>\n",
       "      <td>0</td>\n",
       "      <td>0</td>\n",
       "      <td>0</td>\n",
       "      <td>0</td>\n",
       "      <td>0</td>\n",
       "    </tr>\n",
       "  </tbody>\n",
       "</table>\n",
       "<p>5 rows × 43 columns</p>\n",
       "</div>"
      ],
      "text/plain": [
       "      region     price      year  manufacturer     model  condition  \\\n",
       "0   0.733333  0.132579  0.922330      0.972973  0.498570  excellent   \n",
       "1   0.733333  0.648357  0.961165      0.270270  0.391708  excellent   \n",
       "2   0.733333  0.344166  0.951456      0.297297  0.780558  excellent   \n",
       "3   0.733333  0.648357  0.961165      0.270270  0.391708  excellent   \n",
       "22  0.733333  0.070363  0.815534      0.270270  0.369192       good   \n",
       "\n",
       "    cylinders    fuel  odometer  title_status     ...     type_coupe  \\\n",
       "0    1.000000     gas  0.181426           0.0     ...              0   \n",
       "1    0.666667     gas  0.000026           0.0     ...              0   \n",
       "2    0.666667     gas  0.021580           0.0     ...              0   \n",
       "3    0.666667     gas  0.000026           0.0     ...              0   \n",
       "22   0.000000  diesel  0.283808           0.0     ...              0   \n",
       "\n",
       "   type_hatchback type_mini-van type_offroad  type_other  type_pickup  \\\n",
       "0               1             0            0           0            0   \n",
       "1               0             0            0           1            0   \n",
       "2               0             0            0           1            0   \n",
       "3               0             0            0           1            0   \n",
       "22              0             0            0           1            0   \n",
       "\n",
       "    type_sedan  type_truck  type_van  type_wagon  \n",
       "0            0           0         0           0  \n",
       "1            0           0         0           0  \n",
       "2            0           0         0           0  \n",
       "3            0           0         0           0  \n",
       "22           0           0         0           0  \n",
       "\n",
       "[5 rows x 43 columns]"
      ]
     },
     "execution_count": 29,
     "metadata": {},
     "output_type": "execute_result"
    }
   ],
   "source": [
    "sc = MinMaxScaler()\n",
    "df[['price', 'year', 'odometer', 'cylinders', 'title_status', 'manufacturer', 'model', 'region', 'lat', 'long']] = sc.fit_transform(df[['price', 'year', 'odometer', 'cylinders', 'title_status', 'manufacturer', 'model','region', 'lat', 'long']])\n",
    "df.head()"
   ]
  },
  {
   "cell_type": "code",
   "execution_count": null,
   "metadata": {},
   "outputs": [],
   "source": [
    "# dataset with just missing value, binning condition, scaling, encoding\n",
    "# df.to_csv('used_car_ver1.csv')"
   ]
  },
  {
   "cell_type": "code",
   "execution_count": 30,
   "metadata": {},
   "outputs": [],
   "source": [
    "#dataset with missing value, outlier, binning, encoding, scaling\n",
    "# df.to_csv('used_car_ver2.csv')"
   ]
  },
  {
   "cell_type": "markdown",
   "metadata": {},
   "source": [
    "### Eksperimen dengan dataset versi 1"
   ]
  },
  {
   "cell_type": "code",
   "execution_count": null,
   "metadata": {},
   "outputs": [],
   "source": [
    "df1 = pd.read_csv('used_car_ver1.csv')"
   ]
  },
  {
   "cell_type": "markdown",
   "metadata": {},
   "source": [
    "#### Feature Selection"
   ]
  },
  {
   "cell_type": "code",
   "execution_count": null,
   "metadata": {},
   "outputs": [],
   "source": [
    "y = df1['condition']\n",
    "X = df1.drop(columns = ['drive', 'state','fuel', 'transmission', 'type', 'condition', 'title_status', 'manufacturer', 'model'])"
   ]
  },
  {
   "cell_type": "code",
   "execution_count": null,
   "metadata": {},
   "outputs": [],
   "source": [
    "# y = df['transmission']\n",
    "# X = df.drop(columns = ['drive', 'state','fuel', 'transmission', 'type', 'condition', 'title_status', 'transmission_automatic', 'transmission_manual', 'transmission_other', 'price', 'state_ut', 'state_va', 'state_vt', 'state_wa',  'odometer' ])"
   ]
  },
  {
   "cell_type": "markdown",
   "metadata": {},
   "source": [
    "#### Split dataset into data train and test "
   ]
  },
  {
   "cell_type": "code",
   "execution_count": null,
   "metadata": {},
   "outputs": [],
   "source": [
    "X_train, X_test, y_train, y_test = train_test_split(X, y, test_size=0.25)"
   ]
  },
  {
   "cell_type": "code",
   "execution_count": null,
   "metadata": {},
   "outputs": [],
   "source": [
    "# #Create a svm Classifier\n",
    "# svmc = SVC(kernel='linear') # Linear Kernel\n",
    "\n",
    "# #Train the model using the training sets\n",
    "# svmc.fit(X_train, y_train)\n",
    "\n",
    "# #Predict the response for test dataset\n",
    "# svm_pred = svmc.predict(X_test)\n",
    "\n",
    "# # Model Accuracy\n",
    "# print(\"Accuracy: \", metrics.accuracy_score(y_test,svm_pred))\n",
    "# print(\"F1 Score: \",f1_score(y_test, svm_pred, average='macro'))"
   ]
  },
  {
   "cell_type": "code",
   "execution_count": null,
   "metadata": {},
   "outputs": [],
   "source": [
    "print('Random Forest Classifier\\n')\n",
    "\n",
    "#Create Random Forest Classifier and Train the model using the training sets\n",
    "rfc = RandomForestClassifier(n_estimators=20).fit(X_train, y_train)\n",
    "\n",
    "#Predict the response for test dataset\n",
    "rfc_pred = rfc.predict(X_test)\n",
    "\n",
    "print('Confusion Matrix :')\n",
    "print(results) \n",
    "print('Report : ')\n",
    "print(classification_report(y_test, rfc_pred))\n",
    "print('Accuracy Score : ',metrics.accuracy_score(y_test, rfc_pred))\n",
    "print('F1 Score: ',f1_score(y_test, rfc_pred, average='macro'))"
   ]
  },
  {
   "cell_type": "code",
   "execution_count": null,
   "metadata": {},
   "outputs": [],
   "source": [
    "print('XGB Classifier\\n')\n",
    "\n",
    "#Create XGB Classifier\n",
    "model = XGBClassifier()\n",
    "\n",
    "#Train the model using the training sets\n",
    "model.fit(X_train, y_train)\n",
    "\n",
    "#Predict the response for test dataset\n",
    "xgb_pred = model.predict(X_test)\n",
    "\n",
    "results = confusion_matrix(y_test, xgb_pred)\n",
    "print('Confusion Matrix :')\n",
    "print(results) \n",
    "print('Report : ')\n",
    "print(classification_report(y_test, xgb_pred))\n",
    "print('Accuracy Score : ',metrics.accuracy_score(y_test, xgb_pred))\n",
    "print('F1 Score: ',f1_score(y_test, xgb_pred, average='macro'))"
   ]
  },
  {
   "cell_type": "code",
   "execution_count": null,
   "metadata": {},
   "outputs": [],
   "source": [
    "# n = [3,4,5,7,9]\n",
    "# eval_score = []\n",
    "# for i in n:\n",
    "#     #Create KNN Classifier with neighbours = 4\n",
    "#     knn = KNeighborsClassifier(n_neighbors=i)\n",
    "#     #Train the model using the training sets\n",
    "#     knn.fit(X_train, y_train)\n",
    "#     #Predict the response for test dataset\n",
    "#     knn_pred = knn.predict(X_test)\n",
    "\n",
    "#     print(\"Accuracy: \",metrics.accuracy_score(y_test, knn_pred))\n",
    "#     print(\"F1 Score: \",f1_score(y_test, knn_pred, average='macro'))\n",
    "    \n"
   ]
  },
  {
   "cell_type": "code",
   "execution_count": null,
   "metadata": {
    "scrolled": true
   },
   "outputs": [],
   "source": [
    "#Search best max_depth \n",
    "depth = [3,7,11,15,17,20]\n",
    "eval_score = []\n",
    "for d in depth:\n",
    "    #Create Decission Tree Classifier and Train the model using the training sets\n",
    "    dec = DecisionTreeClassifier(max_depth = d).fit(X_train, y_train)\n",
    "    #Predict the response for test dataset\n",
    "    dec_pred = dec.predict(X_test)\n",
    "    \n",
    "    dec_acc = metrics.accuracy_score(y_test, dec_pred)\n",
    "    dec_f1 = f1_score(y_test, dec_pred, average='macro')\n",
    "    eval_score.append([dec_acc, dec_f1, d])\n",
    "    \n",
    "best_dtc = max([sublist for sublist in eval_score])"
   ]
  },
  {
   "cell_type": "code",
   "execution_count": null,
   "metadata": {},
   "outputs": [],
   "source": [
    "print('Decision Tree\\n')\n",
    "#Create Decission Tree Classifier and Train the model using the training sets\n",
    "dec = DecisionTreeClassifier(max_depth = best_dtc[2]).fit(X_train, y_train)\n",
    "#Predict the response for test dataset\n",
    "dec_pred = dec.predict(X_test)\n",
    "\n",
    "print('Confusion Matrix :')\n",
    "print(results) \n",
    "print('Report : ')\n",
    "print(classification_report(y_test, dec_pred))\n",
    "print('Accuracy Score : ',metrics.accuracy_score(y_test, dec_pred))\n",
    "print('F1 Score: ',f1_score(y_test, dec_pred, average='macro'))"
   ]
  },
  {
   "cell_type": "markdown",
   "metadata": {},
   "source": [
    "### Eksperimen dengan dataset versi 2"
   ]
  },
  {
   "cell_type": "code",
   "execution_count": 31,
   "metadata": {},
   "outputs": [],
   "source": [
    "df2 = pd.read_csv('used_car_ver2.csv')"
   ]
  },
  {
   "cell_type": "code",
   "execution_count": 32,
   "metadata": {},
   "outputs": [],
   "source": [
    "y = df2['condition']\n",
    "X = df2.drop(columns = ['drive', 'state','fuel', 'transmission', 'type', 'condition', 'title_status', 'manufacturer', 'model'])"
   ]
  },
  {
   "cell_type": "code",
   "execution_count": 33,
   "metadata": {},
   "outputs": [],
   "source": [
    "X_train, X_test, y_train, y_test = train_test_split(X, y, test_size=0.3)"
   ]
  },
  {
   "cell_type": "code",
   "execution_count": 34,
   "metadata": {},
   "outputs": [],
   "source": [
    "# #Create a svm Classifier\n",
    "# svm = SVC(kernel='linear') # Linear Kernel\n",
    "\n",
    "# #Train the model using the training sets\n",
    "# svm.fit(X_train, y_train)\n",
    "\n",
    "# #Predict the response for test dataset\n",
    "# svm_pred = svm.predict(X_test)\n",
    "\n",
    "# # Model Accuracy\n",
    "# print(\"Accuracy: \", metrics.accuracy_score(y_test,svm_pred))\n",
    "# print(\"F1 Score: \",f1_score(y_test, svm_pred, average='macro'))"
   ]
  },
  {
   "cell_type": "code",
   "execution_count": null,
   "metadata": {},
   "outputs": [],
   "source": [
    "gb = GradientBoostingClassifier(n_estimators=20, learning_rate=0.22, max_features=3, max_depth=8, random_state=0)\n",
    "gb.fit(X_train, y_train)\n",
    "gb_pred = gb.predict(X_test)\n",
    "\n",
    "# print(\"Accuracy score (training): {0:.3f}\".format(gb_pred.score(X_train, y_train)))\n",
    "print(\"Accuracy score (validation): {0:.3f}\".format(metrics.accuracy_score(y_test, gb_pred)))\n",
    "print(\"F1 Score: \",f1_score(y_test, gb_pred, average='macro'))"
   ]
  },
  {
   "cell_type": "code",
   "execution_count": null,
   "metadata": {},
   "outputs": [],
   "source": [
    "confusion_matrix(y_test, xgb_pred)"
   ]
  },
  {
   "cell_type": "code",
   "execution_count": null,
   "metadata": {},
   "outputs": [],
   "source": [
    "#Create Random Forest Classifier and Train the model using the training sets\n",
    "rfc = RandomForestClassifier(n_estimators=15).fit(X_train, y_train)\n",
    "\n",
    "#Predict the response for test dataset\n",
    "rfc_pred = rfc.predict(X_test)\n",
    "\n",
    "print(\"Accuracy: \",metrics.accuracy_score(y_test, rfc_pred))\n",
    "print(\"F1 Score: \",f1_score(y_test, rfc_pred, average='macro'))"
   ]
  },
  {
   "cell_type": "code",
   "execution_count": null,
   "metadata": {},
   "outputs": [],
   "source": [
    "#Create XGB Classifier\n",
    "model = XGBClassifier()\n",
    "\n",
    "#Train the model using the training sets\n",
    "model.fit(X_train, y_train)\n",
    "\n",
    "#Predict the response for test dataset\n",
    "xgb_pred = model.predict(X_test)\n",
    "\n",
    "print(\"Accuracy: \",metrics.accuracy_score(y_test, xgb_pred))\n",
    "print(\"F1 Score: \",f1_score(y_test, xgb_pred, average='macro'))"
   ]
  },
  {
   "cell_type": "code",
   "execution_count": null,
   "metadata": {},
   "outputs": [],
   "source": [
    "results = confusion_matrix(y_test, xgb_pred)\n",
    "print ('Confusion Matrix :')\n",
    "print(results) \n",
    "print ('Accuracy Score :',metrics.accuracy_score(y_test, xgb_pred) )\n",
    "print ('Report : ')\n",
    "print (classification_report(y_test, xgb_pred) )"
   ]
  },
  {
   "cell_type": "code",
   "execution_count": null,
   "metadata": {},
   "outputs": [],
   "source": [
    "n = [3,4,5,7,9]\n",
    "for i in n:\n",
    "    #Create KNN Classifier with neighbours = 4\n",
    "    knn = KNeighborsClassifier(n_neighbors=i)\n",
    "    #Train the model using the training sets\n",
    "    knn.fit(X_train, y_train)\n",
    "    #Predict the response for test dataset\n",
    "    knn_pred = knn.predict(X_test)\n",
    "\n",
    "    print(\"Accuracy: \",metrics.accuracy_score(y_test, knn_pred))\n",
    "    print(\"F1 Score: \",f1_score(y_test, knn_pred, average='macro'))"
   ]
  },
  {
   "cell_type": "code",
   "execution_count": null,
   "metadata": {},
   "outputs": [],
   "source": [
    "depth = [3,5,7,15,17,21]\n",
    "for i in depth:\n",
    "    #Create Decission Tree Classifier and Train the model using the training sets\n",
    "    dec = DecisionTreeClassifier(max_depth = i).fit(X_train, y_train)\n",
    "    #Predict the response for test dataset\n",
    "    dec_pred = dec.predict(X_test)\n",
    "    \n",
    "    print(\"Accuracy: \",metrics.accuracy_score(y_test, dec_pred))\n",
    "    print(\"F1 Score: \",f1_score(y_test, dec_pred, average='macro'))"
   ]
  },
  {
   "cell_type": "code",
   "execution_count": null,
   "metadata": {},
   "outputs": [],
   "source": []
  }
 ],
 "metadata": {
  "kernelspec": {
   "display_name": "Python 3",
   "language": "python",
   "name": "python3"
  },
  "language_info": {
   "codemirror_mode": {
    "name": "ipython",
    "version": 3
   },
   "file_extension": ".py",
   "mimetype": "text/x-python",
   "name": "python",
   "nbconvert_exporter": "python",
   "pygments_lexer": "ipython3",
   "version": "3.6.4"
  }
 },
 "nbformat": 4,
 "nbformat_minor": 2
}
