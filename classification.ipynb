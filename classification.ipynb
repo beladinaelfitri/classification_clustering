{
 "cells": [
  {
   "cell_type": "code",
   "execution_count": null,
   "metadata": {},
   "outputs": [],
   "source": [
    "import numpy as np\n",
    "import pandas as pd\n",
    "from sklearn.model_selection import train_test_split\n",
    "from sklearn.preprocessing import MinMaxScaler\n",
    "from sklearn.preprocessing import LabelEncoder\n",
    "#Import model library\n",
    "from sklearn import svm\n",
    "from sklearn.ensemble import RandomForestClassifier\n",
    "from xgboost import XGBClassifier\n",
    "from sklearn.neighbors import KNeighborsClassifier\n",
    "from sklearn.tree import DecisionTreeClassifier\n",
    "#Import scikit-learn metrics module for accuracy calculation\n",
    "from sklearn import metrics\n",
    "from sklearn.metrics import f1_score\n",
    "#Import library for plotting\n",
    "import matplotlib.pyplot as plt\n",
    "import seaborn as sns"
   ]
  },
  {
   "cell_type": "code",
   "execution_count": null,
   "metadata": {},
   "outputs": [],
   "source": [
    "df = pd.read_csv('used_cars.csv')"
   ]
  },
  {
   "cell_type": "markdown",
   "metadata": {},
   "source": [
    "### Data Exploration"
   ]
  },
  {
   "cell_type": "code",
   "execution_count": null,
   "metadata": {},
   "outputs": [],
   "source": [
    "df.head()"
   ]
  },
  {
   "cell_type": "code",
   "execution_count": null,
   "metadata": {},
   "outputs": [],
   "source": [
    "#number of records and column\n",
    "df.shape"
   ]
  },
  {
   "cell_type": "code",
   "execution_count": null,
   "metadata": {},
   "outputs": [],
   "source": [
    "df.describe()"
   ]
  },
  {
   "cell_type": "code",
   "execution_count": null,
   "metadata": {},
   "outputs": [],
   "source": [
    "#datatype for each column\n",
    "df.dtypes"
   ]
  },
  {
   "cell_type": "code",
   "execution_count": null,
   "metadata": {},
   "outputs": [],
   "source": [
    "df._get_numeric_data().columns"
   ]
  },
  {
   "cell_type": "code",
   "execution_count": null,
   "metadata": {},
   "outputs": [],
   "source": [
    "#correlation matrix\n",
    "\n",
    "corrmat = df.corr()\n",
    "f, ax = plt.subplots(figsize=(12, 9))\n",
    "sns.heatmap(corrmat, annot=True, square=True)"
   ]
  },
  {
   "cell_type": "code",
   "execution_count": null,
   "metadata": {},
   "outputs": [],
   "source": [
    "#check missing value\n",
    "\n",
    "total = df.isnull().sum().sort_values(ascending=False)\n",
    "percent = (df.isnull().sum()/df.isnull().count()).sort_values(ascending=False)\n",
    "missing_data = pd.concat([total, percent], axis=1, keys=['Total', 'Percent'])\n",
    "missing_data"
   ]
  },
  {
   "cell_type": "code",
   "execution_count": null,
   "metadata": {},
   "outputs": [],
   "source": [
    "#check outliers using boxplot\n",
    "\n",
    "plt.figure(figsize=(60, 60))\n",
    "f, axes = plt.subplots(1, 5)\n",
    "sns.boxplot(y=df[\"price\"], ax=axes[0])\n",
    "sns.boxplot(y=df[\"odometer\"], ax=axes[1])\n",
    "sns.boxplot(y=df[\"year\"], ax=axes[2])\n",
    "sns.boxplot(y=df[\"lat\"], ax=axes[3])\n",
    "sns.boxplot(y=df[\"long\"], ax=axes[4])\n",
    "plt.subplots_adjust(wspace=1)"
   ]
  },
  {
   "cell_type": "markdown",
   "metadata": {},
   "source": [
    "#### Shows the number of occurrences of some category"
   ]
  },
  {
   "cell_type": "code",
   "execution_count": null,
   "metadata": {},
   "outputs": [],
   "source": [
    "df['condition'].value_counts()"
   ]
  },
  {
   "cell_type": "code",
   "execution_count": null,
   "metadata": {},
   "outputs": [],
   "source": [
    "sns.countplot(x = 'condition', data = df)"
   ]
  },
  {
   "cell_type": "code",
   "execution_count": null,
   "metadata": {},
   "outputs": [],
   "source": [
    "df['fuel'].value_counts()"
   ]
  },
  {
   "cell_type": "code",
   "execution_count": null,
   "metadata": {},
   "outputs": [],
   "source": [
    "sns.countplot(x = 'fuel', data = df)"
   ]
  },
  {
   "cell_type": "code",
   "execution_count": null,
   "metadata": {},
   "outputs": [],
   "source": [
    "sns.countplot(x = 'cylinders', data = df)"
   ]
  },
  {
   "cell_type": "code",
   "execution_count": null,
   "metadata": {},
   "outputs": [],
   "source": [
    "sns.countplot(x = 'type', data = df)"
   ]
  },
  {
   "cell_type": "code",
   "execution_count": null,
   "metadata": {},
   "outputs": [],
   "source": [
    "sns.countplot(x = 'title_status', data = df)"
   ]
  },
  {
   "cell_type": "code",
   "execution_count": null,
   "metadata": {},
   "outputs": [],
   "source": [
    "sns.countplot(x = 'transmission', data = df)"
   ]
  },
  {
   "cell_type": "code",
   "execution_count": null,
   "metadata": {},
   "outputs": [],
   "source": [
    "sns.countplot(x = 'drive', data = df)"
   ]
  },
  {
   "cell_type": "code",
   "execution_count": null,
   "metadata": {},
   "outputs": [],
   "source": [
    "sns.countplot(x = 'size', data = df)"
   ]
  },
  {
   "cell_type": "code",
   "execution_count": null,
   "metadata": {},
   "outputs": [],
   "source": [
    "sns.countplot(x = 'state', data = df)"
   ]
  },
  {
   "cell_type": "code",
   "execution_count": null,
   "metadata": {},
   "outputs": [],
   "source": [
    "sns.countplot(x = 'region', data = df)"
   ]
  },
  {
   "cell_type": "code",
   "execution_count": null,
   "metadata": {},
   "outputs": [],
   "source": [
    "sns.countplot(x = 'paint_color', data = df)"
   ]
  },
  {
   "cell_type": "markdown",
   "metadata": {},
   "source": [
    "#### Check data distribution"
   ]
  },
  {
   "cell_type": "code",
   "execution_count": null,
   "metadata": {},
   "outputs": [],
   "source": [
    "sns.distplot(df[df['year'].notnull()]['year'], kde=False, bins=10);"
   ]
  },
  {
   "cell_type": "code",
   "execution_count": null,
   "metadata": {},
   "outputs": [],
   "source": [
    "sns.distplot(df[df['odometer'].notnull()]['odometer'], kde=False, bins=10);"
   ]
  },
  {
   "cell_type": "code",
   "execution_count": null,
   "metadata": {},
   "outputs": [],
   "source": [
    "sns.distplot(df[df['price'].notnull()]['price'], kde=False, bins=10);"
   ]
  },
  {
   "cell_type": "code",
   "execution_count": null,
   "metadata": {},
   "outputs": [],
   "source": [
    "#correlation between odometer and price\n",
    "\n",
    "plt.figure(figsize=(100, 100))\n",
    "df_nona= df[df['odometer'].notnull()]\n",
    "g = sns.pairplot(df_nona[['price', 'odometer']] )"
   ]
  },
  {
   "cell_type": "code",
   "execution_count": null,
   "metadata": {},
   "outputs": [],
   "source": [
    "#correlation between price and year\n",
    "\n",
    "plt.figure(figsize=(100, 100))\n",
    "df_nona= df[df['year'].notnull()]\n",
    "g = sns.pairplot(df_nona[['price', 'year']] )"
   ]
  },
  {
   "cell_type": "markdown",
   "metadata": {},
   "source": [
    "### Data Preparation"
   ]
  },
  {
   "cell_type": "code",
   "execution_count": null,
   "metadata": {},
   "outputs": [],
   "source": [
    "#county doesn't have any values and we don't need unnamed column\n",
    "df = df.drop(columns = ['Unnamed: 0','county'])"
   ]
  },
  {
   "cell_type": "code",
   "execution_count": null,
   "metadata": {},
   "outputs": [],
   "source": [
    "df.columns"
   ]
  },
  {
   "cell_type": "markdown",
   "metadata": {},
   "source": [
    "#### Dealing with Missing Value"
   ]
  },
  {
   "cell_type": "code",
   "execution_count": null,
   "metadata": {},
   "outputs": [],
   "source": [
    "# cdf['cylinders']=cdf['cylinders'].str.replace('cylinders','')"
   ]
  },
  {
   "cell_type": "code",
   "execution_count": null,
   "metadata": {},
   "outputs": [],
   "source": [
    "#Max fill function for manufacturer\n",
    "df['model'].fillna(df['model'].value_counts().idxmax(), inplace=True)"
   ]
  },
  {
   "cell_type": "code",
   "execution_count": null,
   "metadata": {},
   "outputs": [],
   "source": [
    "df = df.replace(0, np.NaN)\n",
    "\n",
    "# fill missing values with mean column values\n",
    "df['odometer'].fillna(df['odometer'].median(), inplace=True)\n",
    "df['price'].fillna(df['price'].median(), inplace=True)\n",
    "df['year'].fillna(df['year'].median(), inplace=True)\n",
    "df['lat'].fillna(df['lat'].median(), inplace=True)\n",
    "df['long'].fillna(df['long'].median(), inplace=True)"
   ]
  },
  {
   "cell_type": "code",
   "execution_count": null,
   "metadata": {},
   "outputs": [],
   "source": [
    "#fill missing values with 'other'\n",
    "\n",
    "df['cylinders'].fillna('other', inplace=True)"
   ]
  },
  {
   "cell_type": "code",
   "execution_count": null,
   "metadata": {
    "scrolled": true
   },
   "outputs": [],
   "source": [
    "df['cylinders'].isnull().sum()"
   ]
  },
  {
   "cell_type": "code",
   "execution_count": null,
   "metadata": {},
   "outputs": [],
   "source": [
    "#fill missing values with 'other'\n",
    "\n",
    "df['fuel'].fillna('other', inplace=True)"
   ]
  },
  {
   "cell_type": "code",
   "execution_count": null,
   "metadata": {},
   "outputs": [],
   "source": [
    "df['fuel'].isnull().sum()"
   ]
  },
  {
   "cell_type": "code",
   "execution_count": null,
   "metadata": {},
   "outputs": [],
   "source": [
    "#Max fill function for title_status\n",
    "df['title_status'].fillna(df['title_status'].value_counts().idxmax(), inplace=True)"
   ]
  },
  {
   "cell_type": "code",
   "execution_count": null,
   "metadata": {},
   "outputs": [],
   "source": [
    "df['title_status'].isnull().sum()"
   ]
  },
  {
   "cell_type": "code",
   "execution_count": null,
   "metadata": {},
   "outputs": [],
   "source": [
    "#fill missing values with 'other'\n",
    "\n",
    "df['transmission'].fillna('other', inplace=True)"
   ]
  },
  {
   "cell_type": "code",
   "execution_count": null,
   "metadata": {},
   "outputs": [],
   "source": [
    "df['transmission'].isnull().sum()"
   ]
  },
  {
   "cell_type": "code",
   "execution_count": null,
   "metadata": {},
   "outputs": [],
   "source": [
    "#fill missing values with 'other'\n",
    "\n",
    "df['drive'].fillna('other', inplace=True)"
   ]
  },
  {
   "cell_type": "code",
   "execution_count": null,
   "metadata": {},
   "outputs": [],
   "source": [
    "df['drive'].isnull().sum()"
   ]
  },
  {
   "cell_type": "code",
   "execution_count": null,
   "metadata": {},
   "outputs": [],
   "source": [
    "#fill missing values with 'other'\n",
    "\n",
    "df['type'].fillna('other', inplace=True)"
   ]
  },
  {
   "cell_type": "code",
   "execution_count": null,
   "metadata": {},
   "outputs": [],
   "source": [
    "df['type'].isnull().sum()"
   ]
  },
  {
   "cell_type": "code",
   "execution_count": null,
   "metadata": {},
   "outputs": [],
   "source": [
    "df = df.drop(columns = ['vin', 'paint_color','size','id','url','region_url','image_url','description'])"
   ]
  },
  {
   "cell_type": "code",
   "execution_count": null,
   "metadata": {},
   "outputs": [],
   "source": [
    "df.dropna(inplace=True)"
   ]
  },
  {
   "cell_type": "markdown",
   "metadata": {},
   "source": [
    "##### Dealing with Outliers"
   ]
  },
  {
   "cell_type": "code",
   "execution_count": null,
   "metadata": {},
   "outputs": [],
   "source": [
    "from scipy import stats\n",
    "\n",
    "z = np.abs(stats.zscore(df[['odometer','price']]))\n",
    "df= df[(z < 3).all(axis=1)]"
   ]
  },
  {
   "cell_type": "code",
   "execution_count": null,
   "metadata": {},
   "outputs": [],
   "source": [
    "df.shape"
   ]
  },
  {
   "cell_type": "markdown",
   "metadata": {},
   "source": [
    "### Feature Engineering"
   ]
  },
  {
   "cell_type": "markdown",
   "metadata": {},
   "source": [
    "#### Binning"
   ]
  },
  {
   "cell_type": "code",
   "execution_count": null,
   "metadata": {},
   "outputs": [],
   "source": [
    "#binning for cylinders to reduce imbalance data\n",
    "\n",
    "cylinders_conditions = [\n",
    "    df['cylinders'].str.contains('6 cylinders'),\n",
    "    df['cylinders'].str.contains('4 cylinders'),\n",
    "    df['cylinders'].str.contains('8 cylinders')]\n",
    "choices = ['medium', 'small', 'large']\n",
    "df['cylinders'] = np.select(cylinders_conditions, choices, default='other')"
   ]
  },
  {
   "cell_type": "code",
   "execution_count": null,
   "metadata": {},
   "outputs": [],
   "source": [
    "#binning for fuel to reduce imbalance data\n",
    "\n",
    "fuel_conditions = [\n",
    "    df['fuel'].str.contains('gas'),\n",
    "    df['fuel'].str.contains('diesel')]\n",
    "fuel_choices = ['gas', 'diesel']\n",
    "df['fuel'] = np.select(fuel_conditions, fuel_choices, default='other')"
   ]
  },
  {
   "cell_type": "code",
   "execution_count": null,
   "metadata": {},
   "outputs": [],
   "source": [
    "#binning for condition to reduce imbalance data\n",
    "\n",
    "conditions = [\n",
    "    df['condition'].str.contains('excellent'),\n",
    "    df['condition'].str.contains('good'),\n",
    "    df['condition'].str.contains('like new'),\n",
    "    df['condition'].str.contains('fair'),\n",
    "    df['condition'].str.contains('salvage'),\n",
    "    df['condition'].str.contains('new')]\n",
    "choices = ['excellent', 'good', 'excellent', 'good', 'good', 'excellent']\n",
    "df['condition'] = np.select(conditions, choices, default='other')"
   ]
  },
  {
   "cell_type": "code",
   "execution_count": null,
   "metadata": {},
   "outputs": [],
   "source": [
    "#binning for condition to reduce imbalance data\n",
    "\n",
    "status_conditions = [\n",
    "    df['title_status'].str.contains('clean'),\n",
    "    df['title_status'].str.contains('rebuilt')]\n",
    "choices = ['excellent', 'good']\n",
    "df['title_status'] = np.select(status_conditions, choices, default='fair')"
   ]
  },
  {
   "cell_type": "code",
   "execution_count": null,
   "metadata": {},
   "outputs": [],
   "source": [
    "# df = df[['condition', 'cylinders', 'drive', 'odometer', 'fuel', 'year', 'state', 'price']]"
   ]
  },
  {
   "cell_type": "markdown",
   "metadata": {},
   "source": [
    "#### Encoding categorical data"
   ]
  },
  {
   "cell_type": "code",
   "execution_count": null,
   "metadata": {},
   "outputs": [],
   "source": [
    "labelencoder = LabelEncoder()\n",
    "df['cylinders'] = labelencoder.fit_transform(df['cylinders'])\n",
    "labelencoder = LabelEncoder()\n",
    "df['title_status'] = labelencoder.fit_transform(df['title_status'])\n",
    "labelencoder = LabelEncoder()\n",
    "df['manufacturer'] = labelencoder.fit_transform(df['manufacturer'])\n",
    "labelencoder = LabelEncoder()\n",
    "df['model'] = labelencoder.fit_transform(df['model'])\n",
    "labelencoder = LabelEncoder()\n",
    "df['region'] = labelencoder.fit_transform(df['region'])"
   ]
  },
  {
   "cell_type": "code",
   "execution_count": null,
   "metadata": {},
   "outputs": [],
   "source": [
    "#one hot encoding\n",
    "enc = pd.get_dummies(df[['drive', 'fuel', 'state', 'transmission', 'type']])\n",
    "df = df.join(enc)\n",
    "df.head()"
   ]
  },
  {
   "cell_type": "markdown",
   "metadata": {},
   "source": [
    "##### Scaling"
   ]
  },
  {
   "cell_type": "code",
   "execution_count": null,
   "metadata": {},
   "outputs": [],
   "source": [
    "sc = MinMaxScaler()\n",
    "df[['price', 'year', 'odometer', 'cylinders', 'title_status', 'manufacturer', 'model', 'region', 'lat', 'long']] = sc.fit_transform(df[['price', 'year', 'odometer', 'cylinders', 'title_status', 'manufacturer', 'model','region', 'lat', 'long']])\n",
    "df.head()"
   ]
  },
  {
   "cell_type": "code",
   "execution_count": null,
   "metadata": {},
   "outputs": [],
   "source": [
    "#dataset with just missing value, scaling, encoding\n",
    "# df.to_csv('used_car_ver1.csv')"
   ]
  },
  {
   "cell_type": "code",
   "execution_count": null,
   "metadata": {},
   "outputs": [],
   "source": [
    "#dataset with missing value, outlier, binning, encoding, scaling\n",
    "df.to_csv('used_car_ver2.csv')"
   ]
  },
  {
   "cell_type": "markdown",
   "metadata": {},
   "source": [
    "### Eksperimen dengan dataset versi 1"
   ]
  },
  {
   "cell_type": "code",
   "execution_count": null,
   "metadata": {},
   "outputs": [],
   "source": [
    "df1 = pd.read_csv('used_car_ver1.csv')"
   ]
  },
  {
   "cell_type": "markdown",
   "metadata": {},
   "source": [
    "#### Feature Selection"
   ]
  },
  {
   "cell_type": "code",
   "execution_count": null,
   "metadata": {},
   "outputs": [],
   "source": [
    "y = df1['condition']\n",
    "X = df1.drop(columns = ['drive', 'state','fuel', 'transmission', 'type', 'condition', 'title_status', 'manufacturer', 'model'])"
   ]
  },
  {
   "cell_type": "code",
   "execution_count": null,
   "metadata": {},
   "outputs": [],
   "source": [
    "# y = df['transmission']\n",
    "# X = df.drop(columns = ['drive', 'state','fuel', 'transmission', 'type', 'condition', 'title_status', 'transmission_automatic', 'transmission_manual', 'transmission_other', 'price', 'state_ut', 'state_va', 'state_vt', 'state_wa',  'odometer' ])"
   ]
  },
  {
   "cell_type": "markdown",
   "metadata": {},
   "source": [
    "#### Split dataset into data train and test "
   ]
  },
  {
   "cell_type": "code",
   "execution_count": null,
   "metadata": {},
   "outputs": [],
   "source": [
    "X_train, X_test, y_train, y_test = train_test_split(X, y, test_size=0.25)"
   ]
  },
  {
   "cell_type": "code",
   "execution_count": null,
   "metadata": {},
   "outputs": [],
   "source": [
    "#Create a svm Classifier\n",
    "svm = svm.SVC(kernel='linear') # Linear Kernel\n",
    "\n",
    "#Train the model using the training sets\n",
    "svm.fit(X_train, y_train)\n",
    "\n",
    "#Predict the response for test dataset\n",
    "svm_pred = clf.predict(X_test)\n",
    "\n",
    "# Model Accuracy\n",
    "print(\"Accuracy: \", metrics.accuracy_score(y_test,svm_pred))\n",
    "print(\"F1 Score: \",f1_score(y_test, svm_pred, average='macro'))"
   ]
  },
  {
   "cell_type": "code",
   "execution_count": null,
   "metadata": {},
   "outputs": [],
   "source": [
    "#Create Random Forest Classifier and Train the model using the training sets\n",
    "rfc = RandomForestClassifier(n_estimators=20).fit(X_train, y_train)\n",
    "\n",
    "#Predict the response for test dataset\n",
    "rfc_pred = rfc.predict(X_test)\n",
    "\n",
    "print(\"Accuracy: \",metrics.accuracy_score(y_test, rfc_pred))\n",
    "print(\"F1 Score: \",f1_score(y_test, rfc_pred, average='macro'))"
   ]
  },
  {
   "cell_type": "code",
   "execution_count": null,
   "metadata": {},
   "outputs": [],
   "source": [
    "#Create XGB Classifier\n",
    "model = XGBClassifier()\n",
    "\n",
    "#Train the model using the training sets\n",
    "model.fit(X_train, y_train)\n",
    "\n",
    "#Predict the response for test dataset\n",
    "xgb_pred = model.predict(X_test)\n",
    "\n",
    "print(\"Accuracy: \",metrics.accuracy_score(y_test, xgb_pred))\n",
    "print(\"F1 Score: \",f1_score(y_test, xgb_pred, average='macro'))"
   ]
  },
  {
   "cell_type": "code",
   "execution_count": null,
   "metadata": {},
   "outputs": [],
   "source": [
    "n = [3,4,5,7,9]\n",
    "for i in n:\n",
    "    #Create KNN Classifier with neighbours = 4\n",
    "    knn = KNeighborsClassifier(n_neighbors=n4)\n",
    "    #Train the model using the training sets\n",
    "    knn.fit(X_train, y_train)\n",
    "    #Predict the response for test dataset\n",
    "    knn_pred = knn.predict(X_test)\n",
    "\n",
    "    print(\"Accuracy: \",metrics.accuracy_score(y_test, knn_pred))\n",
    "    print(\"F1 Score: \",f1_score(y_test, knn_pred, average='macro'))"
   ]
  },
  {
   "cell_type": "code",
   "execution_count": null,
   "metadata": {},
   "outputs": [],
   "source": [
    "depth = [3,5,7,11,15,17]\n",
    "for i in depth:\n",
    "    #Create Decission Tree Classifier and Train the model using the training sets\n",
    "    dec = DecisionTreeClassifier(max_depth = i).fit(X_train, y_train)\n",
    "    #Predict the response for test dataset\n",
    "    dec_pred = dec.predict(X_test)\n",
    "    \n",
    "    print(\"Accuracy: \",metrics.accuracy_score(y_test, dec_pred))\n",
    "    print(\"F1 Score: \",f1_score(y_test, dec_pred, average='macro'))"
   ]
  },
  {
   "cell_type": "code",
   "execution_count": null,
   "metadata": {},
   "outputs": [],
   "source": []
  },
  {
   "cell_type": "code",
   "execution_count": null,
   "metadata": {},
   "outputs": [],
   "source": []
  },
  {
   "cell_type": "code",
   "execution_count": null,
   "metadata": {},
   "outputs": [],
   "source": [
    "df2 = pd.read_csv('used_cars_ver2.csv')"
   ]
  },
  {
   "cell_type": "code",
   "execution_count": null,
   "metadata": {},
   "outputs": [],
   "source": [
    "y = df2['condition']\n",
    "X = df2.drop(columns = ['drive', 'state','fuel', 'transmission', 'type', 'condition', 'title_status', 'manufacturer', 'model'])"
   ]
  },
  {
   "cell_type": "code",
   "execution_count": null,
   "metadata": {},
   "outputs": [],
   "source": [
    "X_train, X_test, y_train, y_test = train_test_split(X, y, test_size=0.25)"
   ]
  },
  {
   "cell_type": "code",
   "execution_count": null,
   "metadata": {},
   "outputs": [],
   "source": [
    "#Create a svm Classifier\n",
    "svm = svm.SVC(kernel='linear') # Linear Kernel\n",
    "\n",
    "#Train the model using the training sets\n",
    "svm.fit(X_train, y_train)\n",
    "\n",
    "#Predict the response for test dataset\n",
    "svm_pred = clf.predict(X_test)\n",
    "\n",
    "# Model Accuracy\n",
    "print(\"Accuracy: \", metrics.accuracy_score(y_test,svm_pred))\n",
    "print(\"F1 Score: \",f1_score(y_test, svm_pred, average='macro'))"
   ]
  },
  {
   "cell_type": "code",
   "execution_count": null,
   "metadata": {},
   "outputs": [],
   "source": [
    "#Create Random Forest Classifier and Train the model using the training sets\n",
    "rfc = RandomForestClassifier(n_estimators=20).fit(X_train, y_train)\n",
    "\n",
    "#Predict the response for test dataset\n",
    "rfc_pred = rfc.predict(X_test)\n",
    "\n",
    "print(\"Accuracy: \",metrics.accuracy_score(y_test, rfc_pred))\n",
    "print(\"F1 Score: \",f1_score(y_test, rfc_pred, average='macro'))"
   ]
  },
  {
   "cell_type": "code",
   "execution_count": null,
   "metadata": {},
   "outputs": [],
   "source": [
    "#Create XGB Classifier\n",
    "model = XGBClassifier()\n",
    "\n",
    "#Train the model using the training sets\n",
    "model.fit(X_train, y_train)\n",
    "\n",
    "#Predict the response for test dataset\n",
    "xgb_pred = model.predict(X_test)\n",
    "\n",
    "print(\"Accuracy: \",metrics.accuracy_score(y_test, xgb_pred))\n",
    "print(\"F1 Score: \",f1_score(y_test, xgb_pred, average='macro'))"
   ]
  },
  {
   "cell_type": "code",
   "execution_count": null,
   "metadata": {},
   "outputs": [],
   "source": [
    "n = [3,4,5,7,9]\n",
    "for i in n:\n",
    "    #Create KNN Classifier with neighbours = 4\n",
    "    knn = KNeighborsClassifier(n_neighbors=n4)\n",
    "    #Train the model using the training sets\n",
    "    knn.fit(X_train, y_train)\n",
    "    #Predict the response for test dataset\n",
    "    knn_pred = knn.predict(X_test)\n",
    "\n",
    "    print(\"Accuracy: \",metrics.accuracy_score(y_test, knn_pred))\n",
    "    print(\"F1 Score: \",f1_score(y_test, knn_pred, average='macro'))"
   ]
  },
  {
   "cell_type": "code",
   "execution_count": null,
   "metadata": {},
   "outputs": [],
   "source": [
    "depth = [3,5,7,11,15,17]\n",
    "for i in depth:\n",
    "    #Create Decission Tree Classifier and Train the model using the training sets\n",
    "    dec = DecisionTreeClassifier(max_depth = i).fit(X_train, y_train)\n",
    "    #Predict the response for test dataset\n",
    "    dec_pred = dec.predict(X_test)\n",
    "    \n",
    "    print(\"Accuracy: \",metrics.accuracy_score(y_test, dec_pred))\n",
    "    print(\"F1 Score: \",f1_score(y_test, dec_pred, average='macro'))"
   ]
  }
 ],
 "metadata": {
  "kernelspec": {
   "display_name": "Python 3",
   "language": "python",
   "name": "python3"
  },
  "language_info": {
   "codemirror_mode": {
    "name": "ipython",
    "version": 3
   },
   "file_extension": ".py",
   "mimetype": "text/x-python",
   "name": "python",
   "nbconvert_exporter": "python",
   "pygments_lexer": "ipython3",
   "version": "3.6.4"
  }
 },
 "nbformat": 4,
 "nbformat_minor": 2
}
